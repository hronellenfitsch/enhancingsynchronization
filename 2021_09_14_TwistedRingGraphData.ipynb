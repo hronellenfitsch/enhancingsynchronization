{
 "cells": [
  {
   "cell_type": "code",
   "execution_count": null,
   "metadata": {},
   "outputs": [],
   "source": [
    "using LinearAlgebra\n",
    "using Statistics\n",
    "using IterativeSolvers\n",
    "using Convex\n",
    "using SCS\n",
    "using COSMO\n",
    "using NLsolve\n",
    "using DifferentialEquations\n",
    "using SparseArrays\n",
    "\n",
    "using JLD2\n",
    "\n",
    "using LightGraphs\n",
    "using PyPlot\n",
    "PyPlot.svg(true);"
   ]
  },
  {
   "cell_type": "code",
   "execution_count": null,
   "metadata": {},
   "outputs": [],
   "source": [
    "N = 10\n",
    "\n",
    "g = LightGraphs.grid([1, N], periodic=true)\n",
    "# g = LightGraphs.erdos_renyi(N^2, 0.35)\n",
    "E = incidence_matrix(g; oriented=true)\n",
    "\n",
    "# coupling constants\n",
    "K = 2.0 # coupling scale\n",
    "B = (K/mean(LightGraphs.degree(g)))*ones(ne(g));\n",
    "\n",
    "# laplacian\n",
    "L = Symmetric(E*diagm(0=>B)*E')\n",
    "\n",
    "# u, Q = eigen(L)\n",
    "\n",
    "L_sp = dropzeros(sparse(L))\n",
    "\n",
    "# natural frequencies are zero for twisted states\n",
    "ω = zeros(nv(g))\n",
    "\n",
    "ω = 1e-3randn(nv(g))\n",
    "ω .-= mean(ω)"
   ]
  },
  {
   "cell_type": "code",
   "execution_count": null,
   "metadata": {},
   "outputs": [],
   "source": [
    "function f_steady_state(F, δ)\n",
    "    F .= ω/nv(g) - E*(B.*sin.(E'*δ))\n",
    "end\n",
    "\n",
    "# initial condition: twisted state\n",
    "q = 3 # twist parameter\n",
    "δ0 = 2π*q*collect(0:N-1)/N\n",
    "\n",
    "sln = nlsolve(f_steady_state, δ0; autodiff=:forward)\n",
    "\n",
    "@show converged(sln);\n",
    "\n",
    "# order parameter at the fixed point\n",
    "R0 = abs2(mean(exp.(1im*sln.zero)))\n",
    "\n",
    "@show R0; \n",
    "sln.zero"
   ]
  },
  {
   "cell_type": "code",
   "execution_count": null,
   "metadata": {},
   "outputs": [],
   "source": [
    "# check by solving ODE\n",
    "function f_kuramoto(du, u, p, t)\n",
    "    f_steady_state(du, u)\n",
    "end"
   ]
  },
  {
   "cell_type": "code",
   "execution_count": null,
   "metadata": {},
   "outputs": [],
   "source": [
    "# Noisy extension\n",
    "δbar = sln.zero\n",
    "\n",
    "# construct S matrix\n",
    "h = complete_graph(nv(g))\n",
    "Eh = incidence_matrix(h; oriented=true)\n",
    "cosδbar = cos.(Eh'*δbar)\n",
    "# cosδbar = ones(ne(h))\n",
    "\n",
    "# Laplacian of the corresponding complete graph\n",
    "S = Symmetric(-Eh*diagm(0=>cosδbar)*Eh'/nv(g)^2)\n",
    "\n",
    "# weighted Laplacian expanded around fixed point\n",
    "B_fp = cos.(E'*δbar).*B\n",
    "L_fp = Symmetric(E*diagm(0 => B_fp)*E')"
   ]
  },
  {
   "cell_type": "code",
   "execution_count": null,
   "metadata": {},
   "outputs": [],
   "source": [
    "eigen(S)"
   ]
  },
  {
   "cell_type": "code",
   "execution_count": null,
   "metadata": {
    "scrolled": false
   },
   "outputs": [],
   "source": [
    "# Eq = Convex.Variable(nv(g), nv(g))\n",
    "# C = Convex.Variable(nv(g), nv(g))\n",
    "Eq = Convex.Semidefinite(nv(g))\n",
    "C = Convex.Semidefinite(nv(g))\n",
    "\n",
    "# D = spdiagm(0 => u)\n",
    "# St = Q'*S*Q\n",
    "\n",
    "problem = maximize(tr(S*Eq), [\n",
    "        L_fp*Eq + Eq*L_fp == C, \n",
    "        Eq*ones(N) == zeros(N),\n",
    "#         sum(Eq) == 0.0,\n",
    "        diag(C, 0) == 1.0,\n",
    "#         tr(C) == nv(g),\n",
    "        ])"
   ]
  },
  {
   "cell_type": "code",
   "execution_count": null,
   "metadata": {
    "scrolled": true
   },
   "outputs": [],
   "source": [
    "# Convex.solve!(problem, () -> SCS.Optimizer(verbose=true, max_iters=20000))\n",
    "Convex.solve!(problem, () -> COSMO.Optimizer(verbose=true, \n",
    "        eps_abs=1e-7, eps_rel=1e-7, max_iter=150000))"
   ]
  },
  {
   "cell_type": "code",
   "execution_count": null,
   "metadata": {},
   "outputs": [],
   "source": [
    "@show sum(C.value)\n",
    "@show sum(Eq.value)\n",
    "@show sum(S)\n",
    "\n",
    "# C_constr = C.value\n",
    "# E_constr = Eq.value"
   ]
  },
  {
   "cell_type": "code",
   "execution_count": null,
   "metadata": {},
   "outputs": [],
   "source": [
    "Cs = C.value\n",
    "Eqs = Eq.value"
   ]
  },
  {
   "cell_type": "code",
   "execution_count": null,
   "metadata": {},
   "outputs": [],
   "source": [
    "eigen(Eq.value)"
   ]
  },
  {
   "cell_type": "code",
   "execution_count": null,
   "metadata": {},
   "outputs": [],
   "source": [
    "Eq.value*ones(N)"
   ]
  },
  {
   "cell_type": "code",
   "execution_count": null,
   "metadata": {},
   "outputs": [],
   "source": [
    "# optimal solution\n",
    "problem.optval"
   ]
  },
  {
   "cell_type": "code",
   "execution_count": null,
   "metadata": {},
   "outputs": [],
   "source": [
    "# compare to uniform noise\n",
    "C_unif = (I*(1 + 1/(nv(g)-1)) - ones(nv(g), nv(g))/(nv(g) - 1))\n",
    "\n",
    "E_uf = lyap(Array(L), -C_unif)\n",
    "\n",
    "optval_uniform = tr(E_uf*S)\n",
    "\n",
    "@show optval_uniform\n",
    "@show optval_uniform/problem.optval"
   ]
  },
  {
   "cell_type": "code",
   "execution_count": null,
   "metadata": {},
   "outputs": [],
   "source": [
    "# project on subspace 1^⟂\n",
    "u, V = eigen(Array(L))\n",
    "\n",
    "V0 = V[2:end,:]\n",
    "L0 = V0*L*V0'\n",
    "C0 = V0*C_unif*V0'\n",
    "S0 = V0*S*V0'\n",
    "\n",
    "E_uf = lyap(L0, -C0)\n",
    "\n",
    "optval_uniform = tr(E_uf*S0)\n",
    "\n",
    "@show optval_uniform\n",
    "@show optval_uniform/problem.optval"
   ]
  },
  {
   "cell_type": "code",
   "execution_count": null,
   "metadata": {},
   "outputs": [],
   "source": [
    "Copt = C.value\n",
    "Eopt = Eq.value\n",
    "optval = problem.optval\n",
    "\n",
    "R0\n",
    "jldsave(\"data/twisted_ring_$(N)_fix_Cii_K_$(K)_q_$(q).jld2\"; g, K, B, δ0, sln, δbar, R0, Copt, Eopt, optval, optval_uniform)"
   ]
  },
  {
   "cell_type": "code",
   "execution_count": null,
   "metadata": {},
   "outputs": [],
   "source": [
    "@show eigvals(Symmetric(C.value))\n",
    "@show eigvals(Symmetric(Eq.value));"
   ]
  },
  {
   "cell_type": "code",
   "execution_count": null,
   "metadata": {},
   "outputs": [],
   "source": [
    "fig, axs = subplots(1, 2)\n",
    "\n",
    "ax = axs[1]\n",
    "cmin, cmax = abs(minimum(C.value)), abs(maximum(C.value))\n",
    "cm = maximum([cmin, cmax])\n",
    "sc = ax.matshow(C.value, cmap=\"RdBu\", vmin=-cm, vmax=cm)\n",
    "fig.colorbar(sc, ax=ax, fraction=0.046, pad=0.04, label=\"noise covariance matrix C\")\n",
    "\n",
    "ax = axs[2]\n",
    "cmin, cmax = abs(minimum(Eq.value)), abs(maximum(Eq.value))\n",
    "cm = maximum([cmin, cmax])\n",
    "sc = ax.matshow(Eq.value, cmap=\"RdBu\", vmin=-cm, vmax=cm)\n",
    "fig.colorbar(sc, ax=ax, fraction=0.046, pad=0.04, label=\"perturbation covariance ⟨εεᵀ⟩\")\n",
    "\n",
    "fig.tight_layout()"
   ]
  },
  {
   "cell_type": "code",
   "execution_count": null,
   "metadata": {},
   "outputs": [],
   "source": [
    "# find a particular realization of the noise input\n",
    "function G_from_C(C)\n",
    "    U, Σ, V = svd(C)\n",
    "    U*diagm(0 => sqrt.(Σ))*U'\n",
    "end\n",
    "\n",
    "G = G_from_C(C.value)\n",
    "η = G*randn(nv(g));"
   ]
  },
  {
   "cell_type": "code",
   "execution_count": null,
   "metadata": {},
   "outputs": [],
   "source": [
    "# visualization for grid graphs\n",
    "\n",
    "fig, axs = subplots(1, 2, figsize=(9, 3))\n",
    "\n",
    "ax = axs[1]\n",
    "# sc = ax.matshow(reshape(η, N, N)', cmap=\"RdBu\")\n",
    "# fig.colorbar(sc, ax=ax, label=\"noise strength η(t)\", fraction=0.046, pad=0.04)\n",
    "\n",
    "sc = ax.matshow(reshape(C.value, N, N)', cmap=\"RdBu\")\n",
    "fig.colorbar(sc, ax=ax, label=\"covariance w one oscillator\", fraction=0.046, pad=0.04)\n",
    "\n",
    "ax = axs[2]\n",
    "ax.plot(C.value[1,:])\n",
    "ax.plot(abs.(C.value[1,:]))\n",
    "\n",
    "fig.tight_layout()"
   ]
  },
  {
   "cell_type": "code",
   "execution_count": null,
   "metadata": {},
   "outputs": [],
   "source": [
    "# run a SDE solution to check results\n",
    "\n",
    "function solve_sde(σ, δ0, G; tspan=(0.0, 3000.0), dt=0.01)\n",
    "    # σ is the noise strength (multiplies the noise matrix)\n",
    "    function g_kuramoto(du, u, p, t)\n",
    "        du .= 1/sqrt(2)*σ*G\n",
    "    end\n",
    "    \n",
    "    prob = SDEProblem(f_kuramoto, g_kuramoto, δ0, tspan; noise_rate_prototype=zeros(size(G)...))\n",
    "    sdesln = solve(prob, EM(), dt=dt)\n",
    "end\n",
    "\n",
    "function cumtrapz_avg(t::T, Y::T) where {T <: AbstractVector}\n",
    "    # Estimates the cumulative time average integral 1/T ∫₀ᵀ f(t) dt using the trapezoid rule\n",
    "    # where time points are in t and corresponding samples of f are in Y\n",
    "    \n",
    "    # Check matching vector length\n",
    "    @assert length(t) == length(Y)\n",
    "    \n",
    "    # Initialize Output\n",
    "    out = similar(t)\n",
    "    out[1] = 0.0\n",
    "    # Iterate over arrays\n",
    "    for i in 2:length(t)\n",
    "        out[i] = out[i-1] + 0.5*(t[i] - t[i-1])*(Y[i] + Y[i-1])\n",
    "    end\n",
    "    out[2:end] ./= (t[2:end] .- t[1])\n",
    "    out[1] = out[2]\n",
    "\n",
    "    out\n",
    "end\n",
    "\n",
    "function Rsqr_from_sde(sdesln)\n",
    "    # numerically integrate and average\n",
    "    Rsqrs = [abs(mean(exp.(1im*u)))^2 for u in sdesln.u]\n",
    "end"
   ]
  },
  {
   "cell_type": "code",
   "execution_count": null,
   "metadata": {},
   "outputs": [],
   "source": [
    "σ = 0.001\n",
    "G = G_from_C(C.value)\n",
    "\n",
    "sdesln = solve_sde(σ, sln.zero, G; tspan=(0.0, 1000.0))\n",
    "Rsqrs_sde = Rsqr_from_sde(sdesln);\n",
    "Rsqrs_avg = cumtrapz_avg(sdesln.t, Rsqrs_sde);"
   ]
  },
  {
   "cell_type": "code",
   "execution_count": null,
   "metadata": {},
   "outputs": [],
   "source": [
    "G_unif = G_from_C(C_unif)\n",
    "\n",
    "sdesln_unif = solve_sde(σ, sln.zero, G_unif; tspan=(0.0, 1000.0))\n",
    "Rsqrs_sde_unif = Rsqr_from_sde(sdesln_unif);\n",
    "Rsqrs_avg_unif = cumtrapz_avg(sdesln_unif.t, Rsqrs_sde_unif);"
   ]
  },
  {
   "cell_type": "code",
   "execution_count": null,
   "metadata": {},
   "outputs": [],
   "source": [
    "ts = sdesln.t\n",
    "ts_unif = sdesln_unif.t\n",
    "\n",
    "jldsave(\"data/twisted_ring_q_$(q)_$(N)_fix_Cii_K_$(K)_sigma_$(σ)_timeseries.jld2\"; Rsqrs_avg, Rsqrs_avg_unif, ts, ts_unif, σ, G)"
   ]
  },
  {
   "cell_type": "code",
   "execution_count": null,
   "metadata": {},
   "outputs": [],
   "source": [
    "fig, ax = subplots()\n",
    "ax.axhline(R0, ls=\":\", label=\"R₀²\")\n",
    "ax.axhline(R0 + 0.5σ^2*problem.optval, label=\"R₀² + 0.5σ² tr(SE)_opt\", color=\"C1\", ls=\":\")\n",
    "ax.axhline(R0 + 0.5σ^2*optval_uniform, label=\"R₀² + 0.5σ² tr(SE)_unif\", color=\"C2\", ls=\":\")\n",
    "# ax.axhline(R0 - σ^2*problem.optval)\n",
    "\n",
    "# ax.set_ylim(R0 - 5σ^2*abs(optval_uniform), R0 + 5σ^2*abs(optval_uniform))\n",
    "\n",
    "# ax.plot(Rsqrs_sde, alpha=0.5)\n",
    "ax.plot(sdesln.t, Rsqrs_avg, color=\"C1\", label=\"⟨R²⟩ optimal\")\n",
    "ax.plot(sdesln_unif.t, Rsqrs_avg_unif, color=\"C2\", label=\"⟨R²⟩ uniform\")\n",
    "\n",
    "# ax.set_xlim(150000, 200000)\n",
    "\n",
    "ax.legend()\n",
    "ax.set_xlabel(\"time t\")\n",
    "ax.set_ylabel(\"order parameter\")"
   ]
  },
  {
   "cell_type": "code",
   "execution_count": null,
   "metadata": {},
   "outputs": [],
   "source": [
    "function noise_compare(σ_max, n)\n",
    "    Rsqrs_opt = []\n",
    "    Rsqrs_uni = []\n",
    "    σs = LinRange(0.0, σ_max, n)\n",
    "    \n",
    "    for σ in σs\n",
    "        sdesln = solve_sde(σ, sln.zero, G; tspan=(0.0, 15000.0), dt=0.01)\n",
    "        Rsqrs_sde = Rsqr_from_sde(sdesln);\n",
    "        Rsqrs_avg = cumtrapz_avg(sdesln.t, Rsqrs_sde);\n",
    "        \n",
    "        push!(Rsqrs_opt, Rsqrs_avg[end])\n",
    "        \n",
    "        sdesln_unif = solve_sde(σ, sln.zero, G_unif; tspan=(0.0, 15000.0), dt=0.01)\n",
    "        Rsqrs_sde_unif = Rsqr_from_sde(sdesln_unif);\n",
    "        Rsqrs_avg_unif = cumtrapz_avg(sdesln_unif.t, Rsqrs_sde_unif);        \n",
    "        \n",
    "        push!(Rsqrs_uni, Rsqrs_avg_unif[end])\n",
    "    end\n",
    "    \n",
    "    σs, Rsqrs_opt, Rsqrs_uni\n",
    "end"
   ]
  },
  {
   "cell_type": "code",
   "execution_count": null,
   "metadata": {},
   "outputs": [],
   "source": [
    "σs, Rsqrs_opt, Rsqrs_uni = noise_compare(1.0, 21)"
   ]
  },
  {
   "cell_type": "code",
   "execution_count": null,
   "metadata": {},
   "outputs": [],
   "source": [
    "fig, ax = subplots()\n",
    "\n",
    "ax.plot(σs, Rsqrs_opt, label=\"optimal\")\n",
    "ax.plot(σs, Rsqrs_uni, label=\"uniform\")\n",
    "ax.plot(σs, map(σ ->  R0 + 0.5σ^2*problem.optval, σs), \"--k\", label=\"approximation\")\n",
    "ax.plot(σs, map(σ ->  R0 + 0.5σ^2*optval_uniform, σs), \"--k\", label=\"approximation\")\n",
    "\n",
    "# ax.set_ylim(0, 1)\n",
    "\n",
    "ax.legend()\n",
    "ax.set_xlabel(\"σ\")\n",
    "ax.set_ylabel(\"⟨R²⟩\")"
   ]
  },
  {
   "cell_type": "code",
   "execution_count": null,
   "metadata": {},
   "outputs": [],
   "source": [
    "# jldsave(\"data/periodic_line_$(N)_fix_Cii_K_$(K)_sigma_series.jld2\"; R0, σs, Rsqrs_opt, Rsqrs_uni, optval, optval_uniform)"
   ]
  },
  {
   "cell_type": "code",
   "execution_count": null,
   "metadata": {},
   "outputs": [],
   "source": []
  }
 ],
 "metadata": {
  "@webio": {
   "lastCommId": null,
   "lastKernelId": null
  },
  "kernelspec": {
   "display_name": "Julia 1.7.2",
   "language": "julia",
   "name": "julia-1.7"
  },
  "language_info": {
   "file_extension": ".jl",
   "mimetype": "application/julia",
   "name": "julia",
   "version": "1.7.2"
  }
 },
 "nbformat": 4,
 "nbformat_minor": 4
}
