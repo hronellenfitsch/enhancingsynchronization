{
 "cells": [
  {
   "cell_type": "code",
   "execution_count": 1,
   "metadata": {},
   "outputs": [
    {
     "data": {
      "text/plain": [
       "4"
      ]
     },
     "execution_count": 1,
     "metadata": {},
     "output_type": "execute_result"
    }
   ],
   "source": [
    "Threads.nthreads()"
   ]
  },
  {
   "cell_type": "code",
   "execution_count": 1,
   "metadata": {},
   "outputs": [],
   "source": [
    "using LinearAlgebra\n",
    "using Statistics\n",
    "using IterativeSolvers\n",
    "using Convex\n",
    "using SCS\n",
    "using COSMO\n",
    "using NLsolve\n",
    "using DifferentialEquations\n",
    "using SparseArrays\n",
    "using Random\n",
    "using GraphPlot\n",
    "using MathOptInterface\n",
    "\n",
    "using JLD2\n",
    "\n",
    "using LightGraphs\n",
    "using PyPlot\n",
    "PyPlot.svg(true);"
   ]
  },
  {
   "cell_type": "code",
   "execution_count": 2,
   "metadata": {},
   "outputs": [
    {
     "data": {
      "text/plain": [
       "true"
      ]
     },
     "execution_count": 2,
     "metadata": {},
     "output_type": "execute_result"
    }
   ],
   "source": [
    "n = 1\n",
    "m = 13\n",
    "# e = 50\n",
    "\n",
    "# g = complete_bipartite_graph(n, m)\n",
    "\n",
    "g = LightGraphs.grid([n, m], periodic=true)\n",
    "N = nv(g)\n",
    "# add_edge!(g, (1, 2))\n",
    "# add_edge!(g, (3, 2))\n",
    "\n",
    "# balanced power flows/natural frequencies\n",
    "ω = randn(nv(g))\n",
    "ω .-= mean(ω)\n",
    "ω = ω./std(ω);\n",
    "\n",
    "is_connected(g)"
   ]
  },
  {
   "cell_type": "code",
   "execution_count": 3,
   "metadata": {},
   "outputs": [
    {
     "data": {
      "text/plain": [
       "optimize_graph (generic function with 1 method)"
      ]
     },
     "execution_count": 3,
     "metadata": {},
     "output_type": "execute_result"
    }
   ],
   "source": [
    "function optimize_graph(g, K, ω; max_iter=200000, iterations=10000)\n",
    "    N = nv(g)\n",
    "\n",
    "    E = incidence_matrix(g; oriented=true)\n",
    "\n",
    "    # coupling constants\n",
    "    B = (K/mean(LightGraphs.degree(g)))*ones(ne(g));\n",
    "\n",
    "    # laplacian\n",
    "    L = Symmetric(E*diagm(0=>B)*E')\n",
    "\n",
    "    # u, Q = eigen(L)\n",
    "\n",
    "    L_sp = dropzeros(sparse(L))\n",
    "\n",
    "    function f_steady_state(F, δ)\n",
    "        F .= ω/nv(g) - E*(B.*sin.(E'*δ))\n",
    "    end\n",
    "\n",
    "    # initial condition\n",
    "    δ0 = 1e-2randn(nv(g))\n",
    "    sln = nlsolve(f_steady_state, δ0; autodiff=:forward, iterations=iterations)\n",
    "\n",
    "    # order parameter at the fixed point\n",
    "    R0 = abs2(mean(exp.(1im*sln.zero)))\n",
    "\n",
    "    # check by solving ODE\n",
    "    function f_kuramoto(du, u, p, t)\n",
    "        f_steady_state(du, u)\n",
    "    end\n",
    "\n",
    "    # Noisy extension\n",
    "    δbar = sln.zero\n",
    "    \n",
    "    if converged(sln)\n",
    "        # construct S matrix\n",
    "        h = complete_graph(nv(g))\n",
    "        Eh = incidence_matrix(h; oriented=true)\n",
    "        cosδbar = cos.(Eh'*δbar)\n",
    "        # cosδbar = ones(ne(h))\n",
    "\n",
    "        # Laplacian of the corresponding complete graph\n",
    "        S = Symmetric(-Eh*diagm(0=>cosδbar)*Eh'/nv(g)^2)\n",
    "\n",
    "        # weighted Laplacian expanded around fixed point\n",
    "        B_fp = cos.(E'*δbar).*B\n",
    "        L_fp = Symmetric(E*diagm(0 => B_fp)*E')\n",
    "\n",
    "        # optimize!\n",
    "        Eq = Convex.Semidefinite(nv(g))\n",
    "        C = Convex.Semidefinite(nv(g))\n",
    "\n",
    "        problem = maximize(tr(S*Eq), [\n",
    "                L_fp*Eq + Eq*L_fp == C, \n",
    "                Eq*ones(N) == zeros(N),\n",
    "        #         sum(Eq) == 0.0,\n",
    "                diag(C, 0) == 1.0,\n",
    "        #         tr(C) == nv(g),\n",
    "                ])\n",
    "\n",
    "        Convex.solve!(problem, () -> COSMO.Optimizer(verbose=false, \n",
    "                eps_abs=1e-7, eps_rel=1e-7, max_iter=max_iter))\n",
    "\n",
    "        @show R0, converged(sln)\n",
    "        @show problem.optval, problem.status\n",
    "    end\n",
    "    \n",
    "    if converged(sln) && (problem.status == MathOptInterface.OPTIMAL)\n",
    "        C.value, Eq.value, S, L_fp, R0, problem.optval, δbar, B, E\n",
    "    else\n",
    "        [NaN], [NaN], [NaN], [NaN], NaN, NaN, [NaN], B, E\n",
    "    end\n",
    "end"
   ]
  },
  {
   "cell_type": "code",
   "execution_count": 9,
   "metadata": {},
   "outputs": [
    {
     "name": "stdout",
     "output_type": "stream",
     "text": [
      "(R0, converged(sln)) = (0.9757834675722112, true)\n",
      "(problem.optval, problem.status) = (-0.12423959572390249, MathOptInterface.OPTIMAL)\n"
     ]
    },
    {
     "data": {
      "text/plain": [
       "13×13 Matrix{Float64}:\n",
       "  1.0        -0.0769231  -0.0769231  …  -0.0769231  -0.0769231  -0.0769231\n",
       " -0.0769231   1.0        -0.0769231     -0.0769231  -0.0769231  -0.0769231\n",
       " -0.0769231  -0.0769231   1.0           -0.0769231  -0.0769231  -0.0769231\n",
       " -0.0769231  -0.0769231  -0.0769231     -0.0769231  -0.0769231  -0.0769231\n",
       " -0.0769231  -0.0769231  -0.0769231     -0.0769231  -0.0769231  -0.0769231\n",
       " -0.0769231  -0.0769231  -0.0769231  …  -0.0769231  -0.0769231  -0.0769231\n",
       " -0.0769231  -0.0769231  -0.0769231     -0.0769231  -0.0769231  -0.0769231\n",
       " -0.0769231  -0.0769231  -0.0769231     -0.0769231  -0.0769231  -0.0769231\n",
       " -0.0769231  -0.0769231  -0.0769231     -0.0769231  -0.0769231  -0.0769231\n",
       " -0.0769231  -0.0769231  -0.0769231     -0.0769231  -0.0769231  -0.0769231\n",
       " -0.0769231  -0.0769231  -0.0769231  …   1.0        -0.0769231  -0.0769231\n",
       " -0.0769231  -0.0769231  -0.0769231     -0.0769231   1.0        -0.0769231\n",
       " -0.0769231  -0.0769231  -0.0769231     -0.0769231  -0.0769231   1.0"
      ]
     },
     "execution_count": 9,
     "metadata": {},
     "output_type": "execute_result"
    }
   ],
   "source": [
    "K = 2.0\n",
    "Copt, Eopt, S, L_fp, R0, optval, δbar, B, E = optimize_graph(g, K, ω)\n",
    "\n",
    "C_unif = ((1 + 1/nv(g))I - ones(nv(g), nv(g))/nv(g))"
   ]
  },
  {
   "cell_type": "code",
   "execution_count": 15,
   "metadata": {
    "scrolled": true
   },
   "outputs": [
    {
     "name": "stdout",
     "output_type": "stream",
     "text": [
      "(i, k, Cvals[end]) = (1, 0.01, NaN)\n",
      "(i, k, Cvals[end]) = (2, 0.019799999999999998, NaN)\n",
      "(i, k, Cvals[end]) = (3, 0.0296, NaN)\n",
      "(i, k, Cvals[end]) = (4, 0.0394, NaN)\n",
      "(i, k, Cvals[end]) = (5, 0.0492, NaN)\n",
      "(i, k, Cvals[end]) = (6, 0.059000000000000004, NaN)\n",
      "(i, k, Cvals[end]) = (7, 0.0688, NaN)\n",
      "(i, k, Cvals[end]) = (8, 0.0786, NaN)\n",
      "(i, k, Cvals[end]) = (9, 0.0884, NaN)\n",
      "(i, k, Cvals[end]) = (10, 0.0982, NaN)\n",
      "(i, k, Cvals[end]) = (11, 0.10800000000000001, NaN)\n",
      "(i, k, Cvals[end]) = (12, 0.1178, NaN)\n",
      "(i, k, Cvals[end]) = (13, 0.1276, NaN)\n",
      "(i, k, Cvals[end]) = (14, 0.1374, NaN)\n",
      "(i, k, Cvals[end]) = (15, 0.14720000000000003, NaN)\n",
      "(i, k, Cvals[end]) = (16, 0.157, NaN)\n",
      "(i, k, Cvals[end]) = (17, 0.1668, NaN)\n",
      "(i, k, Cvals[end]) = (18, 0.1766, NaN)\n",
      "(i, k, Cvals[end]) = (19, 0.18639999999999998, NaN)\n",
      "(i, k, Cvals[end]) = (20, 0.1962, NaN)\n",
      "(i, k, Cvals[end]) = (21, 0.20600000000000002, NaN)\n",
      "(i, k, Cvals[end]) = (22, 0.2158, NaN)\n",
      "(i, k, Cvals[end]) = (23, 0.2256, NaN)\n",
      "(i, k, Cvals[end]) = (24, 0.2354, NaN)\n",
      "(i, k, Cvals[end]) = (25, 0.2452, NaN)\n",
      "(i, k, Cvals[end]) = (26, 0.255, NaN)\n",
      "(i, k, Cvals[end]) = (27, 0.26480000000000004, NaN)\n",
      "(i, k, Cvals[end]) = (28, 0.2746, NaN)\n",
      "(i, k, Cvals[end]) = (29, 0.28440000000000004, NaN)\n",
      "(R0, converged(sln)) = (0.13107690919989484, true)\n",
      "(problem.optval, problem.status) = (15.986589747426985, MathOptInterface.OPTIMAL)\n",
      "(i, k, Cvals[end]) = (30, 0.29419999999999996, 0.8578528134159347)\n",
      "(R0, converged(sln)) = (0.18040310273922472, true)\n",
      "(problem.optval, problem.status) = (9.55428244433509, MathOptInterface.OPTIMAL)\n",
      "(i, k, Cvals[end]) = (31, 0.304, 0.8589058333714984)\n",
      "(R0, converged(sln)) = (0.22063099752552826, true)\n",
      "(problem.optval, problem.status) = (7.491442328731612, MathOptInterface.OPTIMAL)\n",
      "(i, k, Cvals[end]) = (32, 0.3138, 0.8550036463741827)\n",
      "(R0, converged(sln)) = (0.25721072686442303, true)\n",
      "(problem.optval, problem.status) = (6.0948008827490066, MathOptInterface.OPTIMAL)\n",
      "(i, k, Cvals[end]) = (33, 0.3236, 0.8516651233139302)\n",
      "(R0, converged(sln)) = (0.29119937393148276, true)\n",
      "(problem.optval, problem.status) = (4.9760698034678965, MathOptInterface.OPTIMAL)\n",
      "(i, k, Cvals[end]) = (34, 0.33340000000000003, 0.8504661800787792)\n",
      "(R0, converged(sln)) = (0.3230241309484908, true)\n",
      "(problem.optval, problem.status) = (4.0352724533918165, MathOptInterface.OPTIMAL)\n",
      "(i, k, Cvals[end]) = (35, 0.3432, 0.8497633917647875)\n",
      "(R0, converged(sln)) = (0.35292441407380976, true)\n",
      "(problem.optval, problem.status) = (3.225994685561603, MathOptInterface.OPTIMAL)\n",
      "(i, k, Cvals[end]) = (36, 0.353, 0.8496189673186907)\n",
      "(R0, converged(sln)) = (0.38106597863704283, true)\n",
      "(problem.optval, problem.status) = (2.5216396415921745, MathOptInterface.OPTIMAL)\n",
      "(i, k, Cvals[end]) = (37, 0.3628, 0.8502595189247389)\n",
      "(R0, converged(sln)) = (0.4075804584988246, true)\n",
      "(problem.optval, problem.status) = (1.9057095952985026, MathOptInterface.OPTIMAL)\n",
      "(i, k, Cvals[end]) = (38, 0.3726, 0.8526015470104931)\n",
      "(R0, converged(sln)) = (0.432580723495636, true)\n",
      "(problem.optval, problem.status) = (1.3671466285890643, MathOptInterface.OPTIMAL)\n",
      "(i, k, Cvals[end]) = (39, 0.3824, 0.8552847679268556)\n",
      "(R0, converged(sln)) = (0.45616791581246663, true)\n",
      "(problem.optval, problem.status) = (0.8947772822387107, MathOptInterface.OPTIMAL)\n",
      "(i, k, Cvals[end]) = (40, 0.3922, 0.8553029205415031)\n",
      "(R0, converged(sln)) = (0.4784346693030216, true)\n",
      "(problem.optval, problem.status) = (0.4788832011820482, MathOptInterface.OPTIMAL)\n",
      "(i, k, Cvals[end]) = (41, 0.402, 0.8320285136634569)\n",
      "(R0, converged(sln)) = (0.4994667490314683, true)\n",
      "(problem.optval, problem.status) = (0.14932212706004894, MathOptInterface.OPTIMAL)\n",
      "(i, k, Cvals[end]) = (42, 0.4118, 0.8013086763136756)\n",
      "(R0, converged(sln)) = (0.5193439693058349, true)\n",
      "(problem.optval, problem.status) = (-0.11602982776513325, MathOptInterface.OPTIMAL)\n",
      "(i, k, Cvals[end]) = (43, 0.4216, 0.7628284184038747)\n",
      "(R0, converged(sln)) = (0.5381407458949393, true)\n",
      "(problem.optval, problem.status) = (-0.307599635461302, MathOptInterface.OPTIMAL)\n",
      "(i, k, Cvals[end]) = (44, 0.4314, 0.6374975768268206)\n",
      "(R0, converged(sln)) = (0.5559265204612985, true)\n",
      "(problem.optval, problem.status) = (-0.3527637314416378, MathOptInterface.OPTIMAL)\n",
      "(i, k, Cvals[end]) = (45, 0.4412, 0.6353843902591152)\n",
      "(R0, converged(sln)) = (0.5727659869854664, true)\n",
      "(problem.optval, problem.status) = (-0.3536028728384015, MathOptInterface.OPTIMAL)\n",
      "(i, k, Cvals[end]) = (46, 0.451, 0.6356664429825156)\n",
      "(R0, converged(sln)) = (0.5887195634160797, true)\n",
      "(problem.optval, problem.status) = (-0.3539445052771873, MathOptInterface.OPTIMAL)\n",
      "(i, k, Cvals[end]) = (47, 0.46080000000000004, 0.635914598456124)\n",
      "(R0, converged(sln)) = (0.6038434880359428, true)\n",
      "(problem.optval, problem.status) = (-0.35385176376495026, MathOptInterface.OPTIMAL)\n",
      "(i, k, Cvals[end]) = (48, 0.47059999999999996, 0.6361330096941914)\n",
      "(R0, converged(sln)) = (0.6181901251719673, true)\n",
      "(problem.optval, problem.status) = (-0.35337972847058585, MathOptInterface.OPTIMAL)\n",
      "(i, k, Cvals[end]) = (49, 0.4804, 0.636326212587251)\n",
      "(R0, converged(sln)) = (0.6318082617770279, true)\n",
      "(problem.optval, problem.status) = (-0.35257661631947007, MathOptInterface.OPTIMAL)\n",
      "(i, k, Cvals[end]) = (50, 0.49019999999999997, 0.636496887503191)\n",
      "(R0, converged(sln)) = (0.6447432753193835, true)\n",
      "(problem.optval, problem.status) = (-0.35148484734126795, MathOptInterface.OPTIMAL)\n",
      "(i, k, Cvals[end]) = (51, 0.5, 0.6366485228567154)\n"
     ]
    }
   ],
   "source": [
    "Ks = LinRange(0.01, 0.5, 51)\n",
    "\n",
    "Cvals = []\n",
    "Copts = []\n",
    "optvals = []\n",
    "R0s = []\n",
    "δbars = []\n",
    "\n",
    "cur_g = g\n",
    "for (i, k) in enumerate(Ks)\n",
    "    Copt, Eopt, S, L_fp, R0, optval, δbar = optimize_graph(cur_g, k, ω; iterations=5000, max_iter=200000)\n",
    "    \n",
    "    push!(Copts, Copt)\n",
    "    push!(Cvals, sum(abs.(Copt))/N^2)\n",
    "    push!(optvals, optval)\n",
    "    push!(R0s, R0)\n",
    "    push!(δbars, δbar)\n",
    "    \n",
    "    @show i, k, Cvals[end]\n",
    "end"
   ]
  },
  {
   "cell_type": "code",
   "execution_count": 30,
   "metadata": {},
   "outputs": [
    {
     "data": {
      "text/plain": [
       "Rsqr_from_sde (generic function with 1 method)"
      ]
     },
     "execution_count": 30,
     "metadata": {},
     "output_type": "execute_result"
    }
   ],
   "source": [
    "# simulate time series and check optimization\n",
    "\n",
    "# find a particular realization of the noise input\n",
    "function G_from_C(C)\n",
    "    U, Σ, V = svd(C)\n",
    "    U*diagm(0 => sqrt.(Σ))*U'\n",
    "end\n",
    "\n",
    "function solve_sde_v2(σ, δ0, G, B; tspan=(0.0, 3000.0), dt=0.01, saveat=nothing)\n",
    "    function Rsqr_from_u(u)\n",
    "        abs(mean(exp.(1im*u)))^2\n",
    "    end\n",
    "    \n",
    "    function Rsqr_grad(u)\n",
    "        # gradient of R^2\n",
    "        n = length(u)\n",
    "        J = zeros(n)\n",
    "        \n",
    "        # can we make this nicer?\n",
    "        for i=1:n\n",
    "            J[i] = 2/n^2 * sum(sin.(u .- u[i]))\n",
    "        end\n",
    "        \n",
    "        J\n",
    "    end\n",
    "    \n",
    "    function f_steady_state(F, δ)\n",
    "        F .= ω/nv(g) - E*(B.*sin.(E'*δ))\n",
    "    end\n",
    "    \n",
    "    # solve kuramoto model *and* automatically get time average of the order parameter\n",
    "    function f_kuramoto(du, u, p, t)\n",
    "        dδ = @view du[1:end-1]\n",
    "        f_steady_state(dδ, u[1:end-1])\n",
    "        \n",
    "        # time average y(t) = 1/t\\int_0^t R^2(t) dt of the order parameter satisfies\n",
    "        # dy/dt = -y/t + R^2(t)/t\n",
    "        \n",
    "        if t > 0\n",
    "            # solve ode\n",
    "            y = u[end]\n",
    "            Rsqr = Rsqr_from_u(u[1:end-1])\n",
    "            \n",
    "            du[end] = -y/t + Rsqr/t\n",
    "        else\n",
    "            # use formula for y'(0) = 1/2 (R^2)'(0) = 1/2 grad(R^2)(0)'*du(0)\n",
    "            J = Rsqr_grad(u[1:end-1])\n",
    "            du[end] = 0.5J'*du[1:end-1]\n",
    "        end\n",
    "    end\n",
    "    \n",
    "    # σ is the noise strength (multiplies the noise matrix)\n",
    "    function g_kuramoto(du, u, p, t)\n",
    "        du[1:end-1,:] .= 1/sqrt(2)*σ*G\n",
    "        \n",
    "        # no noise on the time average\n",
    "        du[end,:] .= 0.0\n",
    "    end\n",
    "    \n",
    "    n, m = size(G)\n",
    "    \n",
    "    Rsqr0 = Rsqr_from_u(δ0)\n",
    "    u0 = vcat(δ0, [Rsqr0])\n",
    "    prob = SDEProblem(f_kuramoto, g_kuramoto, u0, tspan; noise_rate_prototype=zeros(n+1, m))\n",
    "    sdesln = solve(prob, LambaEM(), dt=dt, saveat=saveat)\n",
    "end\n",
    "\n",
    "function cumtrapz_avg(t::T, Y::T) where {T <: AbstractVector}\n",
    "    # Estimates the cumulative time average integral 1/T ∫₀ᵀ f(t) dt using the trapezoid rule\n",
    "    # where time points are in t and corresponding samples of f are in Y\n",
    "    \n",
    "    # Check matching vector length\n",
    "    @assert length(t) == length(Y)\n",
    "    \n",
    "    # Initialize Output\n",
    "    out = similar(t)\n",
    "    out[1] = 0.0\n",
    "    # Iterate over arrays\n",
    "    for i in 2:length(t)\n",
    "        out[i] = out[i-1] + 0.5*(t[i] - t[i-1])*(Y[i] + Y[i-1])\n",
    "    end\n",
    "    out[2:end] ./= (t[2:end] .- t[1])\n",
    "    out[1] = out[2]\n",
    "\n",
    "    out\n",
    "end\n",
    "\n",
    "function Rsqr_from_sde(sdesln; cut=true)\n",
    "    # numerically integrate and average\n",
    "    Rsqrs = [abs(mean(exp.(1im*u)))^2 for u in sdesln.u]\n",
    "end"
   ]
  },
  {
   "cell_type": "code",
   "execution_count": 31,
   "metadata": {},
   "outputs": [
    {
     "data": {
      "text/plain": [
       "30"
      ]
     },
     "execution_count": 31,
     "metadata": {},
     "output_type": "execute_result"
    }
   ],
   "source": [
    "# find first Copt that is not NaN\n",
    "Copt_first = Copts[end]\n",
    "idx_first = length(Copts)\n",
    "\n",
    "for (i, Copt) in enumerate(Copts)\n",
    "    if !isnan(Copt[1])\n",
    "        Copt_first = Copt\n",
    "        idx_first = i\n",
    "        break\n",
    "    end\n",
    "end\n",
    "\n",
    "idx_first"
   ]
  },
  {
   "cell_type": "code",
   "execution_count": 32,
   "metadata": {},
   "outputs": [
    {
     "name": "stdout",
     "output_type": "stream",
     "text": [
      "(i, Rsqrs_uni[end], Rsqrs_opt[end], Rsqrs_no[end]) = (1, 0.08047162491969573, 0.07929753427072074, 0.08610712678995848)\n",
      "(i, Rsqrs_uni[end], Rsqrs_opt[end], Rsqrs_no[end]) = (2, 0.07758229996779875, 0.07621113450013249, 0.0793417370505448)\n",
      "(i, Rsqrs_uni[end], Rsqrs_opt[end], Rsqrs_no[end]) = (3, 0.07881674268670616, 0.07709414199991117, 0.07752158974999895)\n",
      "(i, Rsqrs_uni[end], Rsqrs_opt[end], Rsqrs_no[end]) = (4, 0.07780372000830933, 0.07710874872749267, 0.09669124776693908)\n",
      "(i, Rsqrs_uni[end], Rsqrs_opt[end], Rsqrs_no[end]) = (5, 0.07916080821998306, 0.0824386251431388, 0.08931377459320922)\n",
      "(i, Rsqrs_uni[end], Rsqrs_opt[end], Rsqrs_no[end]) = (6, 0.07622372028055388, 0.0830196531317072, 0.08565575515163182)\n",
      "(i, Rsqrs_uni[end], Rsqrs_opt[end], Rsqrs_no[end]) = (7, 0.07882732966299409, 0.09944201119084518, 0.08288439986149368)\n",
      "(i, Rsqrs_uni[end], Rsqrs_opt[end], Rsqrs_no[end]) = (8, 0.07921057376173764, 0.09809311694602739, 0.08320803037549065)\n",
      "(i, Rsqrs_uni[end], Rsqrs_opt[end], Rsqrs_no[end]) = (9, 0.07710853593616265, 0.09854722636306983, 0.08266460029749167)\n",
      "(i, Rsqrs_uni[end], Rsqrs_opt[end], Rsqrs_no[end]) = (10, 0.07811685492830835, 0.10201884920766494, 0.10016083347515478)\n",
      "(i, Rsqrs_uni[end], Rsqrs_opt[end], Rsqrs_no[end]) = (11, 0.09478896587722604, 0.1193803111439342, 0.13480014862269912)\n",
      "(i, Rsqrs_uni[end], Rsqrs_opt[end], Rsqrs_no[end]) = (12, 0.0930702963480915, 0.10218964659070716, 0.13789437759722037)\n",
      "(i, Rsqrs_uni[end], Rsqrs_opt[end], Rsqrs_no[end]) = (13, 0.09324537628502448, 0.10169125737783317, 0.09653102644143693)\n",
      "(i, Rsqrs_uni[end], Rsqrs_opt[end], Rsqrs_no[end]) = (14, 0.09183288524163273, 0.10545901400670958, 0.1356607140045612)\n",
      "(i, Rsqrs_uni[end], Rsqrs_opt[end], Rsqrs_no[end]) = (15, 0.09138978497723951, 0.15566687907545115, 0.13193092629924424)\n",
      "(i, Rsqrs_uni[end], Rsqrs_opt[end], Rsqrs_no[end]) = (16, 0.09174340786806379, 0.15181555675823122, 0.1425078646849716)\n",
      "(i, Rsqrs_uni[end], Rsqrs_opt[end], Rsqrs_no[end]) = (17, 0.09191807113800343, 0.1519768272304752, 0.15292773774497034)\n",
      "(i, Rsqrs_uni[end], Rsqrs_opt[end], Rsqrs_no[end]) = (18, 0.09200148822557459, 0.15025508066351997, 0.16082392229136053)\n",
      "(i, Rsqrs_uni[end], Rsqrs_opt[end], Rsqrs_no[end]) = (19, 0.0911426687614693, 0.1489965380106552, 0.1658101764424763)\n",
      "(i, Rsqrs_uni[end], Rsqrs_opt[end], Rsqrs_no[end]) = (20, 0.09264143194325841, 0.15057486829048994, 0.17187469362087462)\n",
      "(i, Rsqrs_uni[end], Rsqrs_opt[end], Rsqrs_no[end]) = (21, 0.09404830552838134, 0.1504894836303322, 0.17573388058667372)\n",
      "(i, Rsqrs_uni[end], Rsqrs_opt[end], Rsqrs_no[end]) = (22, 0.0926508522939496, 0.15180396812940145, 0.17954726492476009)\n",
      "(i, Rsqrs_uni[end], Rsqrs_opt[end], Rsqrs_no[end]) = (23, 0.09380809778203045, 0.1542640842799927, 0.18254254570195164)\n",
      "(i, Rsqrs_uni[end], Rsqrs_opt[end], Rsqrs_no[end]) = (24, 0.09288788833220223, 0.15543732834436041, 0.18593423813949322)\n",
      "(i, Rsqrs_uni[end], Rsqrs_opt[end], Rsqrs_no[end]) = (25, 0.09348996342458078, 0.15856429178362075, 0.1883719809583582)\n",
      "(i, Rsqrs_uni[end], Rsqrs_opt[end], Rsqrs_no[end]) = (26, 0.09415144108151174, 0.16146942869299438, 0.19104600421087817)\n",
      "(i, Rsqrs_uni[end], Rsqrs_opt[end], Rsqrs_no[end]) = (27, 0.09578812102051261, 0.16434693611382303, 0.19139856490195484)\n",
      "(i, Rsqrs_uni[end], Rsqrs_opt[end], Rsqrs_no[end]) = (28, 0.09402459835450151, 0.16796075126159363, 0.1916618658340106)\n",
      "(i, Rsqrs_uni[end], Rsqrs_opt[end], Rsqrs_no[end]) = (29, 0.09491411355774819, 0.16860107074049027, 0.19070067390380233)\n",
      "(i, Rsqrs_uni[end], Rsqrs_opt[end], Rsqrs_no[end]) = (30, 0.09455437483257924, 0.17241289468570656, 0.13105115567426429)\n",
      "(i, Rsqrs_uni[end], Rsqrs_opt[end], Rsqrs_no[end]) = (31, 0.095053474114316, 0.19651980560024743, 0.18035341937878088)\n",
      "(i, Rsqrs_uni[end], Rsqrs_opt[end], Rsqrs_no[end]) = (32, 0.09733509606319246, 0.21826072276515693, 0.22058241678241372)\n",
      "(i, Rsqrs_uni[end], Rsqrs_opt[end], Rsqrs_no[end]) = (33, 0.0971822096021456, 0.22276654130665283, 0.2570150596051179)\n",
      "(i, Rsqrs_uni[end], Rsqrs_opt[end], Rsqrs_no[end]) = (34, 0.09991579066206802, 0.22567218971802622, 0.29096141968319006)\n",
      "(i, Rsqrs_uni[end], Rsqrs_opt[end], Rsqrs_no[end]) = (35, 0.10351088205383113, 0.23368405470355497, 0.32292209417842077)\n",
      "(i, Rsqrs_uni[end], Rsqrs_opt[end], Rsqrs_no[end]) = (36, 0.10990203721980045, 0.2452184918395317, 0.3528370746103891)\n",
      "(i, Rsqrs_uni[end], Rsqrs_opt[end], Rsqrs_no[end]) = (37, 0.10205468571023714, 0.25617067675340394, 0.38084106621459274)\n"
     ]
    },
    {
     "name": "stderr",
     "output_type": "stream",
     "text": [
      "┌ Warning: Interrupted. Larger maxiters is needed.\n",
      "└ @ SciMLBase /home/hmr1/.julia/packages/SciMLBase/x3z0g/src/integrator_interface.jl:331\n",
      "┌ Warning: Interrupted. Larger maxiters is needed.\n",
      "└ @ SciMLBase /home/hmr1/.julia/packages/SciMLBase/x3z0g/src/integrator_interface.jl:331\n"
     ]
    },
    {
     "name": "stdout",
     "output_type": "stream",
     "text": [
      "(i, Rsqrs_uni[end], Rsqrs_opt[end], Rsqrs_no[end]) = (38, 0.2627609682846133, 0.295723005148226, 0.4074718202301692)\n"
     ]
    },
    {
     "name": "stderr",
     "output_type": "stream",
     "text": [
      "┌ Warning: Interrupted. Larger maxiters is needed.\n",
      "└ @ SciMLBase /home/hmr1/.julia/packages/SciMLBase/x3z0g/src/integrator_interface.jl:331\n",
      "┌ Warning: Interrupted. Larger maxiters is needed.\n",
      "└ @ SciMLBase /home/hmr1/.julia/packages/SciMLBase/x3z0g/src/integrator_interface.jl:331\n"
     ]
    },
    {
     "name": "stdout",
     "output_type": "stream",
     "text": [
      "(i, Rsqrs_uni[end], Rsqrs_opt[end], Rsqrs_no[end]) = (39, 0.2608898318803844, 0.31533363813216236, 0.4324824371328376)\n"
     ]
    },
    {
     "name": "stderr",
     "output_type": "stream",
     "text": [
      "┌ Warning: Interrupted. Larger maxiters is needed.\n",
      "└ @ SciMLBase /home/hmr1/.julia/packages/SciMLBase/x3z0g/src/integrator_interface.jl:331\n",
      "┌ Warning: Interrupted. Larger maxiters is needed.\n",
      "└ @ SciMLBase /home/hmr1/.julia/packages/SciMLBase/x3z0g/src/integrator_interface.jl:331\n"
     ]
    },
    {
     "name": "stdout",
     "output_type": "stream",
     "text": [
      "(i, Rsqrs_uni[end], Rsqrs_opt[end], Rsqrs_no[end]) = (40, 0.26318893715925207, 0.3358325742151474, 0.45594174745588173)\n"
     ]
    },
    {
     "name": "stderr",
     "output_type": "stream",
     "text": [
      "┌ Warning: Interrupted. Larger maxiters is needed.\n",
      "└ @ SciMLBase /home/hmr1/.julia/packages/SciMLBase/x3z0g/src/integrator_interface.jl:331\n",
      "┌ Warning: Interrupted. Larger maxiters is needed.\n",
      "└ @ SciMLBase /home/hmr1/.julia/packages/SciMLBase/x3z0g/src/integrator_interface.jl:331\n"
     ]
    },
    {
     "name": "stdout",
     "output_type": "stream",
     "text": [
      "(i, Rsqrs_uni[end], Rsqrs_opt[end], Rsqrs_no[end]) = (41, 0.2642688230094711, 0.3529527270728215, 0.4783744447679814)\n"
     ]
    },
    {
     "name": "stderr",
     "output_type": "stream",
     "text": [
      "┌ Warning: Interrupted. Larger maxiters is needed.\n",
      "└ @ SciMLBase /home/hmr1/.julia/packages/SciMLBase/x3z0g/src/integrator_interface.jl:331\n"
     ]
    },
    {
     "name": "stdout",
     "output_type": "stream",
     "text": [
      "(i, Rsqrs_uni[end], Rsqrs_opt[end], Rsqrs_no[end]) = (42, 0.26638616889609856, 0.10144165617718263, 0.4994069456524378)\n"
     ]
    },
    {
     "name": "stderr",
     "output_type": "stream",
     "text": [
      "┌ Warning: Interrupted. Larger maxiters is needed.\n",
      "└ @ SciMLBase /home/hmr1/.julia/packages/SciMLBase/x3z0g/src/integrator_interface.jl:331\n"
     ]
    },
    {
     "name": "stdout",
     "output_type": "stream",
     "text": [
      "(i, Rsqrs_uni[end], Rsqrs_opt[end], Rsqrs_no[end]) = (43, 0.27083304255458807, 0.10424016303554864, 0.519284855793036)\n"
     ]
    },
    {
     "name": "stderr",
     "output_type": "stream",
     "text": [
      "┌ Warning: Interrupted. Larger maxiters is needed.\n",
      "└ @ SciMLBase /home/hmr1/.julia/packages/SciMLBase/x3z0g/src/integrator_interface.jl:331\n",
      "┌ Warning: Interrupted. Larger maxiters is needed.\n",
      "└ @ SciMLBase /home/hmr1/.julia/packages/SciMLBase/x3z0g/src/integrator_interface.jl:331\n"
     ]
    },
    {
     "name": "stdout",
     "output_type": "stream",
     "text": [
      "(i, Rsqrs_uni[end], Rsqrs_opt[end], Rsqrs_no[end]) = (44, 0.27026839748429776, 0.3663000348742488, 0.5379674172800301)\n"
     ]
    },
    {
     "name": "stderr",
     "output_type": "stream",
     "text": [
      "┌ Warning: Interrupted. Larger maxiters is needed.\n",
      "└ @ SciMLBase /home/hmr1/.julia/packages/SciMLBase/x3z0g/src/integrator_interface.jl:331\n",
      "┌ Warning: Interrupted. Larger maxiters is needed.\n",
      "└ @ SciMLBase /home/hmr1/.julia/packages/SciMLBase/x3z0g/src/integrator_interface.jl:331\n"
     ]
    },
    {
     "name": "stdout",
     "output_type": "stream",
     "text": [
      "(i, Rsqrs_uni[end], Rsqrs_opt[end], Rsqrs_no[end]) = (45, 0.2758182180845854, 0.28326838291336354, 0.5557628707162159)\n"
     ]
    },
    {
     "name": "stderr",
     "output_type": "stream",
     "text": [
      "┌ Warning: Interrupted. Larger maxiters is needed.\n",
      "└ @ SciMLBase /home/hmr1/.julia/packages/SciMLBase/x3z0g/src/integrator_interface.jl:331\n",
      "┌ Warning: Interrupted. Larger maxiters is needed.\n",
      "└ @ SciMLBase /home/hmr1/.julia/packages/SciMLBase/x3z0g/src/integrator_interface.jl:331\n"
     ]
    },
    {
     "name": "stdout",
     "output_type": "stream",
     "text": [
      "(i, Rsqrs_uni[end], Rsqrs_opt[end], Rsqrs_no[end]) = (46, 0.27708166577119814, 0.28844647710010013, 0.5723633299684471)\n"
     ]
    },
    {
     "name": "stderr",
     "output_type": "stream",
     "text": [
      "┌ Warning: Interrupted. Larger maxiters is needed.\n",
      "└ @ SciMLBase /home/hmr1/.julia/packages/SciMLBase/x3z0g/src/integrator_interface.jl:331\n",
      "┌ Warning: Interrupted. Larger maxiters is needed.\n",
      "└ @ SciMLBase /home/hmr1/.julia/packages/SciMLBase/x3z0g/src/integrator_interface.jl:331\n"
     ]
    },
    {
     "name": "stdout",
     "output_type": "stream",
     "text": [
      "(i, Rsqrs_uni[end], Rsqrs_opt[end], Rsqrs_no[end]) = (47, 0.2817496059667934, 0.2951336401484385, 0.5883011176268772)\n"
     ]
    },
    {
     "name": "stderr",
     "output_type": "stream",
     "text": [
      "┌ Warning: Interrupted. Larger maxiters is needed.\n",
      "└ @ SciMLBase /home/hmr1/.julia/packages/SciMLBase/x3z0g/src/integrator_interface.jl:331\n",
      "┌ Warning: Interrupted. Larger maxiters is needed.\n",
      "└ @ SciMLBase /home/hmr1/.julia/packages/SciMLBase/x3z0g/src/integrator_interface.jl:331\n"
     ]
    },
    {
     "name": "stdout",
     "output_type": "stream",
     "text": [
      "(i, Rsqrs_uni[end], Rsqrs_opt[end], Rsqrs_no[end]) = (48, 0.28422918612848624, 0.3006418341968374, 0.6036583055178871)\n"
     ]
    },
    {
     "name": "stderr",
     "output_type": "stream",
     "text": [
      "┌ Warning: Interrupted. Larger maxiters is needed.\n",
      "└ @ SciMLBase /home/hmr1/.julia/packages/SciMLBase/x3z0g/src/integrator_interface.jl:331\n",
      "┌ Warning: Interrupted. Larger maxiters is needed.\n",
      "└ @ SciMLBase /home/hmr1/.julia/packages/SciMLBase/x3z0g/src/integrator_interface.jl:331\n"
     ]
    },
    {
     "name": "stdout",
     "output_type": "stream",
     "text": [
      "(i, Rsqrs_uni[end], Rsqrs_opt[end], Rsqrs_no[end]) = (49, 0.28632211727080303, 0.3050379613972049, 0.6181088150492179)\n"
     ]
    },
    {
     "name": "stderr",
     "output_type": "stream",
     "text": [
      "┌ Warning: Interrupted. Larger maxiters is needed.\n",
      "└ @ SciMLBase /home/hmr1/.julia/packages/SciMLBase/x3z0g/src/integrator_interface.jl:331\n",
      "┌ Warning: Interrupted. Larger maxiters is needed.\n",
      "└ @ SciMLBase /home/hmr1/.julia/packages/SciMLBase/x3z0g/src/integrator_interface.jl:331\n"
     ]
    },
    {
     "name": "stdout",
     "output_type": "stream",
     "text": [
      "(i, Rsqrs_uni[end], Rsqrs_opt[end], Rsqrs_no[end]) = (50, 0.29273391034434754, 0.31594656146425315, 0.6316629800404084)\n"
     ]
    },
    {
     "name": "stderr",
     "output_type": "stream",
     "text": [
      "┌ Warning: Interrupted. Larger maxiters is needed.\n",
      "└ @ SciMLBase /home/hmr1/.julia/packages/SciMLBase/x3z0g/src/integrator_interface.jl:331\n",
      "┌ Warning: Interrupted. Larger maxiters is needed.\n",
      "└ @ SciMLBase /home/hmr1/.julia/packages/SciMLBase/x3z0g/src/integrator_interface.jl:331\n"
     ]
    },
    {
     "name": "stdout",
     "output_type": "stream",
     "text": [
      "(i, Rsqrs_uni[end], Rsqrs_opt[end], Rsqrs_no[end]) = (51, 0.29582427282604223, 0.324205539387165, 0.6445828509059691)\n"
     ]
    }
   ],
   "source": [
    "Rsqrs_opt = Float64[]\n",
    "Ks_opt = Float64[]\n",
    "Rsqrs_uni = Float64[]\n",
    "Ks_uni = Float64[]\n",
    "Rsqrs_no = Float64[]\n",
    "Ks_no = Float64[]\n",
    "\n",
    "σ = 0.5\n",
    "G_unif = G_from_C(C_unif)\n",
    "\n",
    "tmax = 2000000.0\n",
    "\n",
    "for (i, (k, δbar, Copt)) in enumerate(zip(Ks, δbars, Copts))\n",
    "    if isnan(Copt[1])\n",
    "        # pick the first optimal noise matrix that did converge\n",
    "        Copt = Copt_first\n",
    "        \n",
    "        # if this one didn't converge, start from zeros\n",
    "        if isnan(δbar[1])\n",
    "            δbar = zeros(nv(g))\n",
    "        end\n",
    "    end\n",
    "    \n",
    "    B = (k/mean(LightGraphs.degree(g)))*ones(ne(g));\n",
    "    G = G_from_C(Copt)\n",
    "    \n",
    "    for j=1:3\n",
    "        if j == 1\n",
    "            sdesln_v21 = solve_sde_v2(σ, δbar, G, B; tspan=(0.0, tmax), saveat=[tmax])\n",
    "            push!(Rsqrs_opt, sdesln_v21.u[end][end])\n",
    "            push!(Ks_opt, k)\n",
    "        elseif j == 2\n",
    "            sdesln_v22 = solve_sde_v2(σ, δbar, G_unif, B; tspan=(0.0, tmax), saveat=[tmax])\n",
    "            push!(Rsqrs_uni, sdesln_v22.u[end][end])\n",
    "            push!(Ks_uni, k)\n",
    "        elseif j == 3\n",
    "            sdesln_v23 = solve_sde_v2(0.0, δbar, G_unif, B; tspan=(0.0, tmax), saveat=[tmax])\n",
    "            push!(Rsqrs_no, sdesln_v23.u[end][end])\n",
    "            push!(Ks_no, k)\n",
    "        end\n",
    "    end\n",
    "        \n",
    "    @show i, Rsqrs_uni[end], Rsqrs_opt[end], Rsqrs_no[end]\n",
    "end"
   ]
  },
  {
   "cell_type": "code",
   "execution_count": null,
   "metadata": {
    "scrolled": false
   },
   "outputs": [],
   "source": [
    "fig, axs = subplots(1, 2, figsize=(8, 3))\n",
    "\n",
    "ax = axs[1]\n",
    "ax.plot(Ks_no, Rsqrs_no, \"k--\", label=\"no noise\")\n",
    "ax.plot(Ks, R0s, \"k\", label=\"noise-free\")\n",
    "ax.plot(Ks_uni, Rsqrs_uni, label=\"uniform noise\")\n",
    "ax.plot(Ks_opt, Rsqrs_opt, label=\"optimized noise\")\n",
    "# ax.plot(Ks, R0s .+ 0.5*(σ^2)*optvals, \"C1\", label=\"optimized noise\")\n",
    "\n",
    "\n",
    "# ax.plot(Ks, R0s, label=\"noise-free\")\n",
    "# ax.plot(Ks, R0s .+ 0.5*(0.2^2)*optvals, label=\"optimized noise - predicted\")\n",
    "\n",
    "ax.set_xlabel(\"K\")\n",
    "ax.set_ylabel(\"⟨R²⟩\")\n",
    "ax.set_title(\"numerics\")\n",
    "ax.legend()\n",
    "\n",
    "ax.legend()\n",
    "\n",
    "ax = axs[2]\n",
    "ax.plot(Ks, R0s, label=\"noise-free\")\n",
    "ax.plot(Ks, R0s .+ 0.5*(σ^2)*optvals, label=\"optimized noise\")\n",
    "ax.set_xlabel(\"K\")\n",
    "ax.set_ylabel(\"⟨R²⟩ = ⟨R₀²⟩ + (1/2) σ² tr(HE)\")\n",
    "ax.set_title(\"theory\")\n",
    "\n",
    "ax.legend()\n",
    "\n",
    "fig.tight_layout()"
   ]
  },
  {
   "cell_type": "code",
   "execution_count": null,
   "metadata": {},
   "outputs": [],
   "source": [
    "jldsave(\"data/chain_Ks_n_$(n)_m_$(m)_sigma_$(σ).jld2\"; g, Copts, Cvals, R0s, optvals, Ks, Rsqrs_uni, Rsqrs_opt, Rsqrs_no, σ)"
   ]
  },
  {
   "cell_type": "code",
   "execution_count": null,
   "metadata": {},
   "outputs": [],
   "source": [
    "σs = LinRange(0, 5, 51)\n",
    "Kfix = 0.2"
   ]
  },
  {
   "cell_type": "code",
   "execution_count": null,
   "metadata": {},
   "outputs": [],
   "source": [
    "Rsqrs_opt = Float64[]\n",
    "Rsqrs_uni = Float64[]\n",
    "Rsqrs_no = Float64[]\n",
    "\n",
    "G_unif = G_from_C(C_unif)\n",
    "\n",
    "tmax = 200000.0\n",
    "\n",
    "δbar = zeros(nv(g))\n",
    "for (i, σ) in enumerate(σs)\n",
    "    Copt = Copt_first\n",
    "    \n",
    "    B = (Kfix/mean(LightGraphs.degree(g)))*ones(ne(g));\n",
    "    G = G_from_C(Copt)\n",
    "    \n",
    "    for j=1:3\n",
    "        if j == 1\n",
    "            sdesln_v21 = solve_sde_v2(σ, δbar, G, B; tspan=(0.0, tmax), saveat=[tmax])\n",
    "            push!(Rsqrs_opt, sdesln_v21.u[end][end])\n",
    "        elseif j == 2\n",
    "            sdesln_v22 = solve_sde_v2(σ, δbar, G_unif, B; tspan=(0.0, tmax), saveat=[tmax])\n",
    "            push!(Rsqrs_uni, sdesln_v22.u[end][end])\n",
    "        elseif (j == 3) && (i == 1)\n",
    "            sdesln_v23 = solve_sde_v2(0.0, δbar, G_unif, B; tspan=(0.0, tmax), saveat=[tmax])\n",
    "            push!(Rsqrs_no, sdesln_v23.u[end][end])\n",
    "        end\n",
    "    end\n",
    "        \n",
    "    @show i, Rsqrs_uni[end], Rsqrs_opt[end], Rsqrs_no[end]\n",
    "end"
   ]
  },
  {
   "cell_type": "code",
   "execution_count": null,
   "metadata": {},
   "outputs": [],
   "source": [
    "fig, axs = subplots(1, 2, figsize=(8, 3))\n",
    "\n",
    "ax = axs[1]\n",
    "ax.axhline(Rsqrs_no[1], ls=\"--\", c=\"k\", label=\"no noise\")\n",
    "# ax.plot(σs, R0s, \"k\", label=\"noise-free\")\n",
    "ax.plot(σs, Rsqrs_uni, label=\"uniform noise\")\n",
    "ax.plot(σs, Rsqrs_opt, label=\"optimized noise\")\n",
    "# ax.plot(Ks, R0s .+ 0.5*(σ^2)*optvals, \"C1\", label=\"optimized noise\")\n",
    "\n",
    "\n",
    "# ax.plot(Ks, R0s, label=\"noise-free\")\n",
    "# ax.plot(Ks, R0s .+ 0.5*(0.2^2)*optvals, label=\"optimized noise - predicted\")\n",
    "\n",
    "ax.set_xlabel(\"σ\")\n",
    "ax.set_ylabel(\"⟨R²⟩\")\n",
    "ax.set_title(\"numerics\")\n",
    "ax.legend()\n",
    "\n",
    "ax.legend()\n",
    "\n",
    "fig.tight_layout()"
   ]
  },
  {
   "cell_type": "code",
   "execution_count": null,
   "metadata": {},
   "outputs": [],
   "source": [
    "jldsave(\"data/chain_sigmas_n_$(n)_m_$(m).jld2\"; g, Copt_first, Kfix, Rsqrs_uni, Rsqrs_opt, Rsqrs_no, σs)"
   ]
  },
  {
   "cell_type": "code",
   "execution_count": null,
   "metadata": {},
   "outputs": [],
   "source": []
  }
 ],
 "metadata": {
  "@webio": {
   "lastCommId": null,
   "lastKernelId": null
  },
  "kernelspec": {
   "display_name": "Julia 1.7.2",
   "language": "julia",
   "name": "julia-1.7"
  },
  "language_info": {
   "file_extension": ".jl",
   "mimetype": "application/julia",
   "name": "julia",
   "version": "1.7.2"
  }
 },
 "nbformat": 4,
 "nbformat_minor": 4
}
